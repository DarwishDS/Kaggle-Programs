{
 "cells": [
  {
   "cell_type": "code",
   "execution_count": 1,
   "id": "fbc060d0",
   "metadata": {
    "_cell_guid": "b1076dfc-b9ad-4769-8c92-a6c4dae69d19",
    "_uuid": "8f2839f25d086af736a60e9eeb907d3b93b6e0e5",
    "execution": {
     "iopub.execute_input": "2023-10-24T05:58:33.903572Z",
     "iopub.status.busy": "2023-10-24T05:58:33.902619Z",
     "iopub.status.idle": "2023-10-24T05:58:34.353062Z",
     "shell.execute_reply": "2023-10-24T05:58:34.351830Z"
    },
    "papermill": {
     "duration": 0.468437,
     "end_time": "2023-10-24T05:58:34.356434",
     "exception": false,
     "start_time": "2023-10-24T05:58:33.887997",
     "status": "completed"
    },
    "tags": []
   },
   "outputs": [
    {
     "name": "stdout",
     "output_type": "stream",
     "text": [
      "/kaggle/input/evs-one-electric-vehicle-dataset/ElectricCarData_Clean.csv\n",
      "/kaggle/input/evs-one-electric-vehicle-dataset/ElectricCarData_Norm.csv\n"
     ]
    }
   ],
   "source": [
    "# This Python 3 environment comes with many helpful analytics libraries installed\n",
    "# It is defined by the kaggle/python Docker image: https://github.com/kaggle/docker-python\n",
    "# For example, here's several helpful packages to load\n",
    "\n",
    "import numpy as np # linear algebra\n",
    "import pandas as pd # data processing, CSV file I/O (e.g. pd.read_csv)\n",
    "\n",
    "# Input data files are available in the read-only \"../input/\" directory\n",
    "# For example, running this (by clicking run or pressing Shift+Enter) will list all files under the input directory\n",
    "\n",
    "import os\n",
    "for dirname, _, filenames in os.walk('/kaggle/input'):\n",
    "    for filename in filenames:\n",
    "        print(os.path.join(dirname, filename))\n",
    "\n",
    "# You can write up to 20GB to the current directory (/kaggle/working/) that gets preserved as output when you create a version using \"Save & Run All\" \n",
    "# You can also write temporary files to /kaggle/temp/, but they won't be saved outside of the current session"
   ]
  },
  {
   "cell_type": "code",
   "execution_count": 2,
   "id": "fce90ddd",
   "metadata": {
    "execution": {
     "iopub.execute_input": "2023-10-24T05:58:34.382622Z",
     "iopub.status.busy": "2023-10-24T05:58:34.381666Z",
     "iopub.status.idle": "2023-10-24T05:58:36.566096Z",
     "shell.execute_reply": "2023-10-24T05:58:36.564802Z"
    },
    "papermill": {
     "duration": 2.200713,
     "end_time": "2023-10-24T05:58:36.569051",
     "exception": false,
     "start_time": "2023-10-24T05:58:34.368338",
     "status": "completed"
    },
    "tags": []
   },
   "outputs": [],
   "source": [
    "# importing Libraries \n",
    "import pandas as pd\n",
    "import seaborn as sns\n",
    "import numpy as np\n",
    "import matplotlib.pyplot as plt\n",
    "from statsmodels.stats.outliers_influence import variance_inflation_factor\n",
    "from sklearn.linear_model import LogisticRegression\n",
    "from sklearn.model_selection import train_test_split\n",
    "from sklearn.linear_model import LinearRegression\n",
    "from sklearn.metrics import mean_squared_error, r2_score"
   ]
  },
  {
   "cell_type": "code",
   "execution_count": 3,
   "id": "05dfd9e8",
   "metadata": {
    "execution": {
     "iopub.execute_input": "2023-10-24T05:58:36.595158Z",
     "iopub.status.busy": "2023-10-24T05:58:36.594443Z",
     "iopub.status.idle": "2023-10-24T05:58:36.615965Z",
     "shell.execute_reply": "2023-10-24T05:58:36.614724Z"
    },
    "papermill": {
     "duration": 0.037987,
     "end_time": "2023-10-24T05:58:36.619135",
     "exception": false,
     "start_time": "2023-10-24T05:58:36.581148",
     "status": "completed"
    },
    "tags": []
   },
   "outputs": [],
   "source": [
    "# Reading our dataset to a variable.\n",
    "df=pd.read_csv('/kaggle/input/evs-one-electric-vehicle-dataset/ElectricCarData_Clean.csv')"
   ]
  },
  {
   "cell_type": "code",
   "execution_count": 4,
   "id": "a873616e",
   "metadata": {
    "execution": {
     "iopub.execute_input": "2023-10-24T05:58:36.645446Z",
     "iopub.status.busy": "2023-10-24T05:58:36.644777Z",
     "iopub.status.idle": "2023-10-24T05:58:36.675911Z",
     "shell.execute_reply": "2023-10-24T05:58:36.674756Z"
    },
    "papermill": {
     "duration": 0.047063,
     "end_time": "2023-10-24T05:58:36.678684",
     "exception": false,
     "start_time": "2023-10-24T05:58:36.631621",
     "status": "completed"
    },
    "tags": []
   },
   "outputs": [
    {
     "data": {
      "text/html": [
       "<div>\n",
       "<style scoped>\n",
       "    .dataframe tbody tr th:only-of-type {\n",
       "        vertical-align: middle;\n",
       "    }\n",
       "\n",
       "    .dataframe tbody tr th {\n",
       "        vertical-align: top;\n",
       "    }\n",
       "\n",
       "    .dataframe thead th {\n",
       "        text-align: right;\n",
       "    }\n",
       "</style>\n",
       "<table border=\"1\" class=\"dataframe\">\n",
       "  <thead>\n",
       "    <tr style=\"text-align: right;\">\n",
       "      <th></th>\n",
       "      <th>Brand</th>\n",
       "      <th>Model</th>\n",
       "      <th>AccelSec</th>\n",
       "      <th>TopSpeed_KmH</th>\n",
       "      <th>Range_Km</th>\n",
       "      <th>Efficiency_WhKm</th>\n",
       "      <th>FastCharge_KmH</th>\n",
       "      <th>RapidCharge</th>\n",
       "      <th>PowerTrain</th>\n",
       "      <th>PlugType</th>\n",
       "      <th>BodyStyle</th>\n",
       "      <th>Segment</th>\n",
       "      <th>Seats</th>\n",
       "      <th>PriceEuro</th>\n",
       "    </tr>\n",
       "  </thead>\n",
       "  <tbody>\n",
       "    <tr>\n",
       "      <th>0</th>\n",
       "      <td>Tesla</td>\n",
       "      <td>Model 3 Long Range Dual Motor</td>\n",
       "      <td>4.6</td>\n",
       "      <td>233</td>\n",
       "      <td>450</td>\n",
       "      <td>161</td>\n",
       "      <td>940</td>\n",
       "      <td>Yes</td>\n",
       "      <td>AWD</td>\n",
       "      <td>Type 2 CCS</td>\n",
       "      <td>Sedan</td>\n",
       "      <td>D</td>\n",
       "      <td>5</td>\n",
       "      <td>55480</td>\n",
       "    </tr>\n",
       "    <tr>\n",
       "      <th>1</th>\n",
       "      <td>Volkswagen</td>\n",
       "      <td>ID.3 Pure</td>\n",
       "      <td>10.0</td>\n",
       "      <td>160</td>\n",
       "      <td>270</td>\n",
       "      <td>167</td>\n",
       "      <td>250</td>\n",
       "      <td>Yes</td>\n",
       "      <td>RWD</td>\n",
       "      <td>Type 2 CCS</td>\n",
       "      <td>Hatchback</td>\n",
       "      <td>C</td>\n",
       "      <td>5</td>\n",
       "      <td>30000</td>\n",
       "    </tr>\n",
       "    <tr>\n",
       "      <th>2</th>\n",
       "      <td>Polestar</td>\n",
       "      <td>2</td>\n",
       "      <td>4.7</td>\n",
       "      <td>210</td>\n",
       "      <td>400</td>\n",
       "      <td>181</td>\n",
       "      <td>620</td>\n",
       "      <td>Yes</td>\n",
       "      <td>AWD</td>\n",
       "      <td>Type 2 CCS</td>\n",
       "      <td>Liftback</td>\n",
       "      <td>D</td>\n",
       "      <td>5</td>\n",
       "      <td>56440</td>\n",
       "    </tr>\n",
       "    <tr>\n",
       "      <th>3</th>\n",
       "      <td>BMW</td>\n",
       "      <td>iX3</td>\n",
       "      <td>6.8</td>\n",
       "      <td>180</td>\n",
       "      <td>360</td>\n",
       "      <td>206</td>\n",
       "      <td>560</td>\n",
       "      <td>Yes</td>\n",
       "      <td>RWD</td>\n",
       "      <td>Type 2 CCS</td>\n",
       "      <td>SUV</td>\n",
       "      <td>D</td>\n",
       "      <td>5</td>\n",
       "      <td>68040</td>\n",
       "    </tr>\n",
       "    <tr>\n",
       "      <th>4</th>\n",
       "      <td>Honda</td>\n",
       "      <td>e</td>\n",
       "      <td>9.5</td>\n",
       "      <td>145</td>\n",
       "      <td>170</td>\n",
       "      <td>168</td>\n",
       "      <td>190</td>\n",
       "      <td>Yes</td>\n",
       "      <td>RWD</td>\n",
       "      <td>Type 2 CCS</td>\n",
       "      <td>Hatchback</td>\n",
       "      <td>B</td>\n",
       "      <td>4</td>\n",
       "      <td>32997</td>\n",
       "    </tr>\n",
       "  </tbody>\n",
       "</table>\n",
       "</div>"
      ],
      "text/plain": [
       "         Brand                          Model  AccelSec  TopSpeed_KmH  \\\n",
       "0       Tesla   Model 3 Long Range Dual Motor       4.6           233   \n",
       "1  Volkswagen                       ID.3 Pure      10.0           160   \n",
       "2    Polestar                               2       4.7           210   \n",
       "3         BMW                            iX3        6.8           180   \n",
       "4       Honda                              e        9.5           145   \n",
       "\n",
       "   Range_Km  Efficiency_WhKm FastCharge_KmH RapidCharge PowerTrain  \\\n",
       "0       450              161            940         Yes        AWD   \n",
       "1       270              167            250         Yes        RWD   \n",
       "2       400              181            620         Yes        AWD   \n",
       "3       360              206            560         Yes        RWD   \n",
       "4       170              168            190         Yes        RWD   \n",
       "\n",
       "     PlugType  BodyStyle Segment  Seats  PriceEuro  \n",
       "0  Type 2 CCS      Sedan       D      5      55480  \n",
       "1  Type 2 CCS  Hatchback       C      5      30000  \n",
       "2  Type 2 CCS   Liftback       D      5      56440  \n",
       "3  Type 2 CCS        SUV       D      5      68040  \n",
       "4  Type 2 CCS  Hatchback       B      4      32997  "
      ]
     },
     "execution_count": 4,
     "metadata": {},
     "output_type": "execute_result"
    }
   ],
   "source": [
    "#Using Head Function for viewing all the first few rows of our data\n",
    "df.head()"
   ]
  },
  {
   "cell_type": "code",
   "execution_count": 5,
   "id": "5b9773bf",
   "metadata": {
    "execution": {
     "iopub.execute_input": "2023-10-24T05:58:36.704894Z",
     "iopub.status.busy": "2023-10-24T05:58:36.704071Z",
     "iopub.status.idle": "2023-10-24T05:58:36.716632Z",
     "shell.execute_reply": "2023-10-24T05:58:36.715487Z"
    },
    "papermill": {
     "duration": 0.028967,
     "end_time": "2023-10-24T05:58:36.719669",
     "exception": false,
     "start_time": "2023-10-24T05:58:36.690702",
     "status": "completed"
    },
    "tags": []
   },
   "outputs": [
    {
     "data": {
      "text/plain": [
       "Brand              0\n",
       "Model              0\n",
       "AccelSec           0\n",
       "TopSpeed_KmH       0\n",
       "Range_Km           0\n",
       "Efficiency_WhKm    0\n",
       "FastCharge_KmH     0\n",
       "RapidCharge        0\n",
       "PowerTrain         0\n",
       "PlugType           0\n",
       "BodyStyle          0\n",
       "Segment            0\n",
       "Seats              0\n",
       "PriceEuro          0\n",
       "dtype: int64"
      ]
     },
     "execution_count": 5,
     "metadata": {},
     "output_type": "execute_result"
    }
   ],
   "source": [
    "df.isna().sum()\n",
    "#This line of Code is to check whether there is any nan Values or Not."
   ]
  },
  {
   "cell_type": "code",
   "execution_count": 6,
   "id": "fd20d501",
   "metadata": {
    "execution": {
     "iopub.execute_input": "2023-10-24T05:58:36.745719Z",
     "iopub.status.busy": "2023-10-24T05:58:36.745286Z",
     "iopub.status.idle": "2023-10-24T05:58:36.755902Z",
     "shell.execute_reply": "2023-10-24T05:58:36.755074Z"
    },
    "papermill": {
     "duration": 0.026776,
     "end_time": "2023-10-24T05:58:36.758533",
     "exception": false,
     "start_time": "2023-10-24T05:58:36.731757",
     "status": "completed"
    },
    "tags": []
   },
   "outputs": [
    {
     "data": {
      "text/plain": [
       "AccelSec           1.245309\n",
       "TopSpeed_KmH       1.899833\n",
       "Range_Km           1.378960\n",
       "Efficiency_WhKm    0.871567\n",
       "Seats             -0.024949\n",
       "PriceEuro          2.221931\n",
       "dtype: float64"
      ]
     },
     "execution_count": 6,
     "metadata": {},
     "output_type": "execute_result"
    }
   ],
   "source": [
    "#Now there is no Nan values as we can see every values are 0.\n",
    "#Now we check if the data contains Skeweness or Not.\n",
    "num_data= df.select_dtypes(include=['number'])\n",
    "num_data.skew()"
   ]
  },
  {
   "cell_type": "code",
   "execution_count": 7,
   "id": "5da5a25f",
   "metadata": {
    "execution": {
     "iopub.execute_input": "2023-10-24T05:58:36.785047Z",
     "iopub.status.busy": "2023-10-24T05:58:36.784602Z",
     "iopub.status.idle": "2023-10-24T05:58:37.170706Z",
     "shell.execute_reply": "2023-10-24T05:58:37.169548Z"
    },
    "papermill": {
     "duration": 0.402558,
     "end_time": "2023-10-24T05:58:37.173208",
     "exception": false,
     "start_time": "2023-10-24T05:58:36.770650",
     "status": "completed"
    },
    "tags": []
   },
   "outputs": [
    {
     "data": {
      "image/png": "[encoded data removed]",
      "text/plain": [
       "<Figure size 640x480 with 1 Axes>"
      ]
     },
     "metadata": {},
     "output_type": "display_data"
    }
   ],
   "source": [
    "# Since there is no severe skewness, we can move forward -> Test For Outliers\n",
    "# Using Boxplot we Check for Outliers.\n",
    "df.boxplot()\n",
    "plt.tight_layout()\n",
    "plt.show()"
   ]
  },
  {
   "cell_type": "code",
   "execution_count": 8,
   "id": "8b2c7c5b",
   "metadata": {
    "execution": {
     "iopub.execute_input": "2023-10-24T05:58:37.200582Z",
     "iopub.status.busy": "2023-10-24T05:58:37.200154Z",
     "iopub.status.idle": "2023-10-24T05:58:37.215584Z",
     "shell.execute_reply": "2023-10-24T05:58:37.214278Z"
    },
    "papermill": {
     "duration": 0.032623,
     "end_time": "2023-10-24T05:58:37.218502",
     "exception": false,
     "start_time": "2023-10-24T05:58:37.185879",
     "status": "completed"
    },
    "tags": []
   },
   "outputs": [],
   "source": [
    "# Since PriceEuro is Having outliers, we are trying to remove it Using Capping Method.\n",
    "q1=df['PriceEuro'].quantile(0.25)\n",
    "q3=df['PriceEuro'].quantile(0.75)\n",
    " \n",
    "IQR=q3-q1  # Finding Inter-Quartile-Range\n",
    "lower_lmt=q1 - (1.5*IQR)\n",
    "upper_lmt=q3 + (1.5*IQR)\n",
    "\n",
    "df['PriceEuro'] = pd.DataFrame(np.where(df['PriceEuro'] > upper_lmt, upper_lmt, \n",
    "     (np.where(df['PriceEuro'] < lower_lmt, lower_lmt, df['PriceEuro']))), columns=['PriceEuro'])"
   ]
  },
  {
   "cell_type": "code",
   "execution_count": 9,
   "id": "7112b10a",
   "metadata": {
    "execution": {
     "iopub.execute_input": "2023-10-24T05:58:37.247664Z",
     "iopub.status.busy": "2023-10-24T05:58:37.247187Z",
     "iopub.status.idle": "2023-10-24T05:58:37.609683Z",
     "shell.execute_reply": "2023-10-24T05:58:37.608368Z"
    },
    "papermill": {
     "duration": 0.38015,
     "end_time": "2023-10-24T05:58:37.612479",
     "exception": false,
     "start_time": "2023-10-24T05:58:37.232329",
     "status": "completed"
    },
    "tags": []
   },
   "outputs": [
    {
     "data": {
      "image/png": "[encoded data removed]",
      "text/plain": [
       "<Figure size 640x480 with 1 Axes>"
      ]
     },
     "metadata": {},
     "output_type": "display_data"
    }
   ],
   "source": [
    "# Using BoxPLot for checking is there any outliers remaining\n",
    "df.boxplot()\n",
    "plt.tight_layout()\n",
    "plt.show()"
   ]
  },
  {
   "cell_type": "code",
   "execution_count": 10,
   "id": "90c030db",
   "metadata": {
    "execution": {
     "iopub.execute_input": "2023-10-24T05:58:37.641687Z",
     "iopub.status.busy": "2023-10-24T05:58:37.641192Z",
     "iopub.status.idle": "2023-10-24T05:58:37.661633Z",
     "shell.execute_reply": "2023-10-24T05:58:37.659904Z"
    },
    "papermill": {
     "duration": 0.039579,
     "end_time": "2023-10-24T05:58:37.665101",
     "exception": false,
     "start_time": "2023-10-24T05:58:37.625522",
     "status": "completed"
    },
    "tags": []
   },
   "outputs": [
    {
     "data": {
      "text/html": [
       "<div>\n",
       "<style scoped>\n",
       "    .dataframe tbody tr th:only-of-type {\n",
       "        vertical-align: middle;\n",
       "    }\n",
       "\n",
       "    .dataframe tbody tr th {\n",
       "        vertical-align: top;\n",
       "    }\n",
       "\n",
       "    .dataframe thead th {\n",
       "        text-align: right;\n",
       "    }\n",
       "</style>\n",
       "<table border=\"1\" class=\"dataframe\">\n",
       "  <thead>\n",
       "    <tr style=\"text-align: right;\">\n",
       "      <th></th>\n",
       "      <th>AccelSec</th>\n",
       "      <th>TopSpeed_KmH</th>\n",
       "      <th>Range_Km</th>\n",
       "      <th>Efficiency_WhKm</th>\n",
       "      <th>Seats</th>\n",
       "      <th>PriceEuro</th>\n",
       "    </tr>\n",
       "  </thead>\n",
       "  <tbody>\n",
       "    <tr>\n",
       "      <th>AccelSec</th>\n",
       "      <td>1.000000</td>\n",
       "      <td>-0.786195</td>\n",
       "      <td>-0.677062</td>\n",
       "      <td>-0.382904</td>\n",
       "      <td>-0.175335</td>\n",
       "      <td>-0.627174</td>\n",
       "    </tr>\n",
       "    <tr>\n",
       "      <th>TopSpeed_KmH</th>\n",
       "      <td>-0.786195</td>\n",
       "      <td>1.000000</td>\n",
       "      <td>0.746662</td>\n",
       "      <td>0.355675</td>\n",
       "      <td>0.126470</td>\n",
       "      <td>0.829057</td>\n",
       "    </tr>\n",
       "    <tr>\n",
       "      <th>Range_Km</th>\n",
       "      <td>-0.677062</td>\n",
       "      <td>0.746662</td>\n",
       "      <td>1.000000</td>\n",
       "      <td>0.313077</td>\n",
       "      <td>0.300163</td>\n",
       "      <td>0.674844</td>\n",
       "    </tr>\n",
       "    <tr>\n",
       "      <th>Efficiency_WhKm</th>\n",
       "      <td>-0.382904</td>\n",
       "      <td>0.355675</td>\n",
       "      <td>0.313077</td>\n",
       "      <td>1.000000</td>\n",
       "      <td>0.301230</td>\n",
       "      <td>0.396705</td>\n",
       "    </tr>\n",
       "    <tr>\n",
       "      <th>Seats</th>\n",
       "      <td>-0.175335</td>\n",
       "      <td>0.126470</td>\n",
       "      <td>0.300163</td>\n",
       "      <td>0.301230</td>\n",
       "      <td>1.000000</td>\n",
       "      <td>0.020920</td>\n",
       "    </tr>\n",
       "    <tr>\n",
       "      <th>PriceEuro</th>\n",
       "      <td>-0.627174</td>\n",
       "      <td>0.829057</td>\n",
       "      <td>0.674844</td>\n",
       "      <td>0.396705</td>\n",
       "      <td>0.020920</td>\n",
       "      <td>1.000000</td>\n",
       "    </tr>\n",
       "  </tbody>\n",
       "</table>\n",
       "</div>"
      ],
      "text/plain": [
       "                 AccelSec  TopSpeed_KmH  Range_Km  Efficiency_WhKm     Seats  \\\n",
       "AccelSec         1.000000     -0.786195 -0.677062        -0.382904 -0.175335   \n",
       "TopSpeed_KmH    -0.786195      1.000000  0.746662         0.355675  0.126470   \n",
       "Range_Km        -0.677062      0.746662  1.000000         0.313077  0.300163   \n",
       "Efficiency_WhKm -0.382904      0.355675  0.313077         1.000000  0.301230   \n",
       "Seats           -0.175335      0.126470  0.300163         0.301230  1.000000   \n",
       "PriceEuro       -0.627174      0.829057  0.674844         0.396705  0.020920   \n",
       "\n",
       "                 PriceEuro  \n",
       "AccelSec         -0.627174  \n",
       "TopSpeed_KmH      0.829057  \n",
       "Range_Km          0.674844  \n",
       "Efficiency_WhKm   0.396705  \n",
       "Seats             0.020920  \n",
       "PriceEuro         1.000000  "
      ]
     },
     "execution_count": 10,
     "metadata": {},
     "output_type": "execute_result"
    }
   ],
   "source": [
    "# So No outliers are there, Now we are checking the correlation between each features\n",
    "\n",
    "correlation= num_data.corr(method='pearson')\n",
    "correlation"
   ]
  },
  {
   "cell_type": "code",
   "execution_count": 11,
   "id": "f3af015b",
   "metadata": {
    "execution": {
     "iopub.execute_input": "2023-10-24T05:58:37.694434Z",
     "iopub.status.busy": "2023-10-24T05:58:37.694019Z",
     "iopub.status.idle": "2023-10-24T05:58:37.701786Z",
     "shell.execute_reply": "2023-10-24T05:58:37.700581Z"
    },
    "papermill": {
     "duration": 0.025583,
     "end_time": "2023-10-24T05:58:37.704651",
     "exception": false,
     "start_time": "2023-10-24T05:58:37.679068",
     "status": "completed"
    },
    "tags": []
   },
   "outputs": [],
   "source": [
    "# Now as our Data is clean we are moving forward to our Tasks Given.\n",
    "\n",
    "# First Task: Which car has the fastest 0-100 acceleration?\n",
    "# So we need to sort the accelaration Coloumns according to Accelarations in Seconds.\n",
    "\n",
    "acceleration_sorted_df= df.sort_values(by='AccelSec', ascending=True)"
   ]
  },
  {
   "cell_type": "code",
   "execution_count": 12,
   "id": "4a82c65e",
   "metadata": {
    "execution": {
     "iopub.execute_input": "2023-10-24T05:58:37.735011Z",
     "iopub.status.busy": "2023-10-24T05:58:37.734595Z",
     "iopub.status.idle": "2023-10-24T05:58:37.745242Z",
     "shell.execute_reply": "2023-10-24T05:58:37.743867Z"
    },
    "papermill": {
     "duration": 0.029598,
     "end_time": "2023-10-24T05:58:37.747927",
     "exception": false,
     "start_time": "2023-10-24T05:58:37.718329",
     "status": "completed"
    },
    "tags": []
   },
   "outputs": [
    {
     "data": {
      "text/plain": [
       "Brand                  Tesla \n",
       "Model               Roadster \n",
       "AccelSec                  2.1\n",
       "TopSpeed_KmH              410\n",
       "Range_Km                  970\n",
       "Efficiency_WhKm           206\n",
       "FastCharge_KmH            920\n",
       "RapidCharge               Yes\n",
       "PowerTrain                AWD\n",
       "PlugType           Type 2 CCS\n",
       "BodyStyle              Cabrio\n",
       "Segment                     S\n",
       "Seats                       4\n",
       "PriceEuro           110855.75\n",
       "Name: 51, dtype: object"
      ]
     },
     "execution_count": 12,
     "metadata": {},
     "output_type": "execute_result"
    }
   ],
   "source": [
    "# Answer of First Task.\n",
    "\"\"\"\n",
    "when looking for the car with the fastest 0-100 acceleration,\n",
    "you are looking for the car with the smallest acceleration time in seconds.\n",
    "A smaller acceleration time indicates that the car can reach 100 km/h faster.\n",
    "\"\"\"\n",
    "acceleration_sorted_df.iloc[0]"
   ]
  },
  {
   "cell_type": "code",
   "execution_count": 13,
   "id": "ab4138df",
   "metadata": {
    "execution": {
     "iopub.execute_input": "2023-10-24T05:58:37.778290Z",
     "iopub.status.busy": "2023-10-24T05:58:37.777882Z",
     "iopub.status.idle": "2023-10-24T05:58:37.789312Z",
     "shell.execute_reply": "2023-10-24T05:58:37.787893Z"
    },
    "papermill": {
     "duration": 0.029816,
     "end_time": "2023-10-24T05:58:37.792150",
     "exception": false,
     "start_time": "2023-10-24T05:58:37.762334",
     "status": "completed"
    },
    "tags": []
   },
   "outputs": [
    {
     "data": {
      "text/plain": [
       "Brand                 Mercedes \n",
       "Model              EQV 300 Long\n",
       "AccelSec                   10.0\n",
       "TopSpeed_KmH                140\n",
       "Range_Km                    330\n",
       "Efficiency_WhKm             273\n",
       "FastCharge_KmH              290\n",
       "RapidCharge                 Yes\n",
       "PowerTrain                  FWD\n",
       "PlugType             Type 2 CCS\n",
       "BodyStyle                   SPV\n",
       "Segment                       N\n",
       "Seats                         7\n",
       "PriceEuro               70631.0\n",
       "Name: 84, dtype: object"
      ]
     },
     "execution_count": 13,
     "metadata": {},
     "output_type": "execute_result"
    }
   ],
   "source": [
    "# Task02: Which has the highest efficiency?\n",
    "# For Finding the highest efficiency vehicle, we need to sort the efficiency column in Descending order and take the First element.\n",
    "\n",
    "efficiency_sorted_df= df.sort_values(by='Efficiency_WhKm', ascending=False)\n",
    "efficiency_sorted_df.iloc[0]   # Here we'll get the answer of second Question."
   ]
  },
  {
   "cell_type": "code",
   "execution_count": 14,
   "id": "dd94fb0b",
   "metadata": {
    "execution": {
     "iopub.execute_input": "2023-10-24T05:58:37.823459Z",
     "iopub.status.busy": "2023-10-24T05:58:37.822989Z",
     "iopub.status.idle": "2023-10-24T05:58:37.842547Z",
     "shell.execute_reply": "2023-10-24T05:58:37.841038Z"
    },
    "papermill": {
     "duration": 0.038872,
     "end_time": "2023-10-24T05:58:37.845138",
     "exception": false,
     "start_time": "2023-10-24T05:58:37.806266",
     "status": "completed"
    },
    "tags": []
   },
   "outputs": [
    {
     "name": "stdout",
     "output_type": "stream",
     "text": [
      "PowerTrain\n",
      "AWD    426.463415\n",
      "FWD    268.243243\n",
      "RWD    299.400000\n",
      "Name: Range_Km, dtype: float64\n"
     ]
    }
   ],
   "source": [
    "# TASK03: Does a difference in power train effect the range, top speed, efficiency?\n",
    "# For Finding this, we are using 'groupby' to group all the 3 values which comes under PowerTrain Column.\n",
    "# First We are Taking the mean of the Range of all 3 Categories.\n",
    "\n",
    "average_range_by_powertrain = df.groupby('PowerTrain')['Range_Km'].mean()\n",
    "print(average_range_by_powertrain)"
   ]
  },
  {
   "cell_type": "code",
   "execution_count": 15,
   "id": "42d85bbf",
   "metadata": {
    "execution": {
     "iopub.execute_input": "2023-10-24T05:58:37.876626Z",
     "iopub.status.busy": "2023-10-24T05:58:37.875622Z",
     "iopub.status.idle": "2023-10-24T05:58:38.169707Z",
     "shell.execute_reply": "2023-10-24T05:58:38.168582Z"
    },
    "papermill": {
     "duration": 0.31379,
     "end_time": "2023-10-24T05:58:38.172996",
     "exception": false,
     "start_time": "2023-10-24T05:58:37.859206",
     "status": "completed"
    },
    "tags": []
   },
   "outputs": [
    {
     "data": {
      "image/png": "[encoded data removed]",
      "text/plain": [
       "<Figure size 640x480 with 1 Axes>"
      ]
     },
     "metadata": {},
     "output_type": "display_data"
    }
   ],
   "source": [
    "# Plotting the mean of each 3 categories For doing that we are using, 'MatplotLib' Library.\n",
    "\n",
    "average_range_by_powertrain.plot(kind='bar', color='red') #Assigning the 'red' colour\n",
    "plt.title('Average Range by PowerTrain Type')\n",
    "plt.xlabel('PowerTrain Type')\n",
    "plt.ylabel('Average Range (Km)')\n",
    "plt.show()"
   ]
  },
  {
   "cell_type": "code",
   "execution_count": 16,
   "id": "042a844e",
   "metadata": {
    "execution": {
     "iopub.execute_input": "2023-10-24T05:58:38.207305Z",
     "iopub.status.busy": "2023-10-24T05:58:38.205911Z",
     "iopub.status.idle": "2023-10-24T05:58:38.214922Z",
     "shell.execute_reply": "2023-10-24T05:58:38.213263Z"
    },
    "papermill": {
     "duration": 0.028764,
     "end_time": "2023-10-24T05:58:38.217617",
     "exception": false,
     "start_time": "2023-10-24T05:58:38.188853",
     "status": "completed"
    },
    "tags": []
   },
   "outputs": [
    {
     "name": "stdout",
     "output_type": "stream",
     "text": [
      "PowerTrain\n",
      "AWD    216.902439\n",
      "FWD    148.756757\n",
      "RWD    162.400000\n",
      "Name: TopSpeed_KmH, dtype: float64\n"
     ]
    }
   ],
   "source": [
    "# Doing the same here in case of Topspeed\n",
    "average_speed_by_powertrain = df.groupby('PowerTrain')['TopSpeed_KmH'].mean()\n",
    "print(average_speed_by_powertrain)"
   ]
  },
  {
   "cell_type": "code",
   "execution_count": 17,
   "id": "f1de1d9f",
   "metadata": {
    "execution": {
     "iopub.execute_input": "2023-10-24T05:58:38.250346Z",
     "iopub.status.busy": "2023-10-24T05:58:38.249051Z",
     "iopub.status.idle": "2023-10-24T05:58:38.531121Z",
     "shell.execute_reply": "2023-10-24T05:58:38.529902Z"
    },
    "papermill": {
     "duration": 0.301478,
     "end_time": "2023-10-24T05:58:38.534151",
     "exception": false,
     "start_time": "2023-10-24T05:58:38.232673",
     "status": "completed"
    },
    "tags": []
   },
   "outputs": [
    {
     "data": {
      "image/png": "[encoded data removed]",
      "text/plain": [
       "<Figure size 640x480 with 1 Axes>"
      ]
     },
     "metadata": {},
     "output_type": "display_data"
    }
   ],
   "source": [
    "# Plotting the above speed mean - so we can understand the relation between powertrain and Speed\n",
    "average_speed_by_powertrain.plot(kind='bar', color='green')\n",
    "plt.title('Average Top Speed by PowerTrain Type')\n",
    "plt.xlabel('PowerTrain Type')\n",
    "plt.ylabel('Average Top Speed (Km/H)')\n",
    "plt.xticks(rotation=45)\n",
    "plt.show()"
   ]
  },
  {
   "cell_type": "code",
   "execution_count": 18,
   "id": "66ee362b",
   "metadata": {
    "execution": {
     "iopub.execute_input": "2023-10-24T05:58:38.573058Z",
     "iopub.status.busy": "2023-10-24T05:58:38.572184Z",
     "iopub.status.idle": "2023-10-24T05:58:38.585216Z",
     "shell.execute_reply": "2023-10-24T05:58:38.583348Z"
    },
    "papermill": {
     "duration": 0.039332,
     "end_time": "2023-10-24T05:58:38.591025",
     "exception": false,
     "start_time": "2023-10-24T05:58:38.551693",
     "status": "completed"
    },
    "tags": []
   },
   "outputs": [
    {
     "name": "stdout",
     "output_type": "stream",
     "text": [
      "PowerTrain\n",
      "AWD    206.756098\n",
      "FWD    175.567568\n",
      "RWD    180.440000\n",
      "Name: Efficiency_WhKm, dtype: float64\n"
     ]
    }
   ],
   "source": [
    "# Doing the same here in case of Efficiency\n",
    "average_efficiency_by_powertrain = df.groupby('PowerTrain')['Efficiency_WhKm'].mean()\n",
    "print(average_efficiency_by_powertrain)"
   ]
  },
  {
   "cell_type": "code",
   "execution_count": 19,
   "id": "47574d13",
   "metadata": {
    "execution": {
     "iopub.execute_input": "2023-10-24T05:58:38.631678Z",
     "iopub.status.busy": "2023-10-24T05:58:38.630690Z",
     "iopub.status.idle": "2023-10-24T05:58:38.979489Z",
     "shell.execute_reply": "2023-10-24T05:58:38.977938Z"
    },
    "papermill": {
     "duration": 0.369831,
     "end_time": "2023-10-24T05:58:38.982310",
     "exception": false,
     "start_time": "2023-10-24T05:58:38.612479",
     "status": "completed"
    },
    "tags": []
   },
   "outputs": [
    {
     "data": {
      "image/png": "[encoded data removed]",
      "text/plain": [
       "<Figure size 640x480 with 1 Axes>"
      ]
     },
     "metadata": {},
     "output_type": "display_data"
    }
   ],
   "source": [
    "# Plotting the above Efficiency mean - so we can understand the relation between powertrain and Efficiency\n",
    "average_efficiency_by_powertrain.plot(kind='bar', color='#7f00ff')\n",
    "plt.title('Average Efficiency by PowerTrain Type')\n",
    "plt.xlabel('PowerTrain Type')\n",
    "plt.ylabel('Average Efficiency (Wh/Km)')\n",
    "plt.xticks(rotation=45)\n",
    "plt.show()"
   ]
  },
  {
   "cell_type": "code",
   "execution_count": 20,
   "id": "58c60b9d",
   "metadata": {
    "execution": {
     "iopub.execute_input": "2023-10-24T05:58:39.028127Z",
     "iopub.status.busy": "2023-10-24T05:58:39.026627Z",
     "iopub.status.idle": "2023-10-24T05:58:39.328142Z",
     "shell.execute_reply": "2023-10-24T05:58:39.326898Z"
    },
    "papermill": {
     "duration": 0.327006,
     "end_time": "2023-10-24T05:58:39.330935",
     "exception": false,
     "start_time": "2023-10-24T05:58:39.003929",
     "status": "completed"
    },
    "tags": []
   },
   "outputs": [
    {
     "data": {
      "image/png": "[encoded data removed]",
      "text/plain": [
       "<Figure size 640x480 with 1 Axes>"
      ]
     },
     "metadata": {},
     "output_type": "display_data"
    }
   ],
   "source": [
    "# SHowing all those three in one graph. So we can understand it easily.\n",
    "grouped = df.groupby('PowerTrain')\n",
    "\n",
    "# Calculate mean values for Range_Km, TopSpeed_KmH, Efficiency_WhKm for each PowerTrain type\n",
    "mean_values = grouped[['Range_Km', 'TopSpeed_KmH', 'Efficiency_WhKm']].mean()\n",
    "\n",
    "mean_values.plot(kind='bar')\n",
    "plt.show()"
   ]
  },
  {
   "cell_type": "code",
   "execution_count": 21,
   "id": "ad1573ee",
   "metadata": {
    "execution": {
     "iopub.execute_input": "2023-10-24T05:58:39.366111Z",
     "iopub.status.busy": "2023-10-24T05:58:39.365648Z",
     "iopub.status.idle": "2023-10-24T05:58:39.374293Z",
     "shell.execute_reply": "2023-10-24T05:58:39.372892Z"
    },
    "papermill": {
     "duration": 0.029844,
     "end_time": "2023-10-24T05:58:39.377393",
     "exception": false,
     "start_time": "2023-10-24T05:58:39.347549",
     "status": "completed"
    },
    "tags": []
   },
   "outputs": [
    {
     "name": "stdout",
     "output_type": "stream",
     "text": [
      "              Range_Km  TopSpeed_KmH  Efficiency_WhKm\n",
      "PowerTrain                                           \n",
      "AWD         426.463415    216.902439       206.756098\n",
      "FWD         268.243243    148.756757       175.567568\n",
      "RWD         299.400000    162.400000       180.440000\n"
     ]
    }
   ],
   "source": [
    "# Printing the Changes in powertrain values and their mean of Range, Topspeed and Efficiency respectively.\n",
    "print(mean_values)"
   ]
  },
  {
   "cell_type": "code",
   "execution_count": 22,
   "id": "79db7ce6",
   "metadata": {
    "execution": {
     "iopub.execute_input": "2023-10-24T05:58:39.412295Z",
     "iopub.status.busy": "2023-10-24T05:58:39.411284Z",
     "iopub.status.idle": "2023-10-24T05:58:39.420387Z",
     "shell.execute_reply": "2023-10-24T05:58:39.419161Z"
    },
    "papermill": {
     "duration": 0.02945,
     "end_time": "2023-10-24T05:58:39.422919",
     "exception": false,
     "start_time": "2023-10-24T05:58:39.393469",
     "status": "completed"
    },
    "tags": []
   },
   "outputs": [],
   "source": [
    "# TASK04: Which manufacturer has the most number of vehicles?\n",
    "total_brand_counts= df['Brand'].value_counts()\n",
    "# Using the above code we'll get the count of all the unique Brands."
   ]
  },
  {
   "cell_type": "code",
   "execution_count": 23,
   "id": "e2e55872",
   "metadata": {
    "execution": {
     "iopub.execute_input": "2023-10-24T05:58:39.457675Z",
     "iopub.status.busy": "2023-10-24T05:58:39.457233Z",
     "iopub.status.idle": "2023-10-24T05:58:39.464261Z",
     "shell.execute_reply": "2023-10-24T05:58:39.462908Z"
    },
    "papermill": {
     "duration": 0.027947,
     "end_time": "2023-10-24T05:58:39.466909",
     "exception": false,
     "start_time": "2023-10-24T05:58:39.438962",
     "status": "completed"
    },
    "tags": []
   },
   "outputs": [
    {
     "name": "stdout",
     "output_type": "stream",
     "text": [
      "Manufacturer with the most number of vehicles: Tesla \n"
     ]
    }
   ],
   "source": [
    "# Print the row with, Brand which Contains the Highest Number using - total_brand_counts.idxmax()\n",
    "print(\"Manufacturer with the most number of vehicles:\", total_brand_counts.idxmax())"
   ]
  },
  {
   "cell_type": "code",
   "execution_count": 24,
   "id": "b02ddc66",
   "metadata": {
    "execution": {
     "iopub.execute_input": "2023-10-24T05:58:39.500918Z",
     "iopub.status.busy": "2023-10-24T05:58:39.500458Z",
     "iopub.status.idle": "2023-10-24T05:58:40.172238Z",
     "shell.execute_reply": "2023-10-24T05:58:40.170483Z"
    },
    "papermill": {
     "duration": 0.695359,
     "end_time": "2023-10-24T05:58:40.178149",
     "exception": false,
     "start_time": "2023-10-24T05:58:39.482790",
     "status": "completed"
    },
    "tags": []
   },
   "outputs": [
    {
     "data": {
      "image/png": "[encoded data removed]",
      "text/plain": [
       "<Figure size 640x480 with 1 Axes>"
      ]
     },
     "metadata": {},
     "output_type": "display_data"
    }
   ],
   "source": [
    "# TASK05: How does price relate to rapid charging?\n",
    "# We plot these two for getting the relation.\n",
    "\n",
    "sns.swarmplot(x=df['RapidCharge'], y=df['PriceEuro'], data=df, hue='RapidCharge', palette='dark:r', hue_order=[\"No\", \"Yes\"])\n",
    "# We are using Swarm plot here  because multiple values do overlap if we plot it using 'scatter', In Swarmplot the datapoints wont overlap.\n",
    "plt.xlabel('Rapid Charging Availability')\n",
    "plt.ylabel('Price in Euro')\n",
    "plt.title('Price vs Rapid Charging in EVs')\n",
    "plt.show()"
   ]
  },
  {
   "cell_type": "code",
   "execution_count": 25,
   "id": "2fcdc808",
   "metadata": {
    "execution": {
     "iopub.execute_input": "2023-10-24T05:58:40.217236Z",
     "iopub.status.busy": "2023-10-24T05:58:40.216485Z",
     "iopub.status.idle": "2023-10-24T05:58:40.237137Z",
     "shell.execute_reply": "2023-10-24T05:58:40.235908Z"
    },
    "papermill": {
     "duration": 0.04348,
     "end_time": "2023-10-24T05:58:40.240052",
     "exception": false,
     "start_time": "2023-10-24T05:58:40.196572",
     "status": "completed"
    },
    "tags": []
   },
   "outputs": [
    {
     "data": {
      "text/html": [
       "<div>\n",
       "<style scoped>\n",
       "    .dataframe tbody tr th:only-of-type {\n",
       "        vertical-align: middle;\n",
       "    }\n",
       "\n",
       "    .dataframe tbody tr th {\n",
       "        vertical-align: top;\n",
       "    }\n",
       "\n",
       "    .dataframe thead th {\n",
       "        text-align: right;\n",
       "    }\n",
       "</style>\n",
       "<table border=\"1\" class=\"dataframe\">\n",
       "  <thead>\n",
       "    <tr style=\"text-align: right;\">\n",
       "      <th></th>\n",
       "      <th>Brand</th>\n",
       "      <th>Model</th>\n",
       "      <th>AccelSec</th>\n",
       "      <th>TopSpeed_KmH</th>\n",
       "      <th>Range_Km</th>\n",
       "      <th>Efficiency_WhKm</th>\n",
       "      <th>FastCharge_KmH</th>\n",
       "      <th>RapidCharge</th>\n",
       "      <th>PowerTrain</th>\n",
       "      <th>PlugType</th>\n",
       "      <th>BodyStyle</th>\n",
       "      <th>Segment</th>\n",
       "      <th>Seats</th>\n",
       "      <th>PriceEuro</th>\n",
       "    </tr>\n",
       "  </thead>\n",
       "  <tbody>\n",
       "    <tr>\n",
       "      <th>57</th>\n",
       "      <td>Renault</td>\n",
       "      <td>Twingo ZE</td>\n",
       "      <td>12.6</td>\n",
       "      <td>135</td>\n",
       "      <td>130</td>\n",
       "      <td>164</td>\n",
       "      <td>-</td>\n",
       "      <td>No</td>\n",
       "      <td>RWD</td>\n",
       "      <td>Type 2</td>\n",
       "      <td>Hatchback</td>\n",
       "      <td>A</td>\n",
       "      <td>4</td>\n",
       "      <td>24790.0</td>\n",
       "    </tr>\n",
       "    <tr>\n",
       "      <th>68</th>\n",
       "      <td>Renault</td>\n",
       "      <td>Kangoo Maxi ZE 33</td>\n",
       "      <td>22.4</td>\n",
       "      <td>130</td>\n",
       "      <td>160</td>\n",
       "      <td>194</td>\n",
       "      <td>-</td>\n",
       "      <td>No</td>\n",
       "      <td>FWD</td>\n",
       "      <td>Type 2</td>\n",
       "      <td>SPV</td>\n",
       "      <td>N</td>\n",
       "      <td>5</td>\n",
       "      <td>38000.0</td>\n",
       "    </tr>\n",
       "    <tr>\n",
       "      <th>77</th>\n",
       "      <td>Smart</td>\n",
       "      <td>EQ forfour</td>\n",
       "      <td>12.7</td>\n",
       "      <td>130</td>\n",
       "      <td>95</td>\n",
       "      <td>176</td>\n",
       "      <td>-</td>\n",
       "      <td>No</td>\n",
       "      <td>RWD</td>\n",
       "      <td>Type 2</td>\n",
       "      <td>Hatchback</td>\n",
       "      <td>A</td>\n",
       "      <td>4</td>\n",
       "      <td>22030.0</td>\n",
       "    </tr>\n",
       "    <tr>\n",
       "      <th>82</th>\n",
       "      <td>Smart</td>\n",
       "      <td>EQ fortwo coupe</td>\n",
       "      <td>11.6</td>\n",
       "      <td>130</td>\n",
       "      <td>100</td>\n",
       "      <td>167</td>\n",
       "      <td>-</td>\n",
       "      <td>No</td>\n",
       "      <td>RWD</td>\n",
       "      <td>Type 2</td>\n",
       "      <td>Hatchback</td>\n",
       "      <td>A</td>\n",
       "      <td>2</td>\n",
       "      <td>21387.0</td>\n",
       "    </tr>\n",
       "    <tr>\n",
       "      <th>91</th>\n",
       "      <td>Smart</td>\n",
       "      <td>EQ fortwo cabrio</td>\n",
       "      <td>11.9</td>\n",
       "      <td>130</td>\n",
       "      <td>95</td>\n",
       "      <td>176</td>\n",
       "      <td>-</td>\n",
       "      <td>No</td>\n",
       "      <td>RWD</td>\n",
       "      <td>Type 2</td>\n",
       "      <td>Cabrio</td>\n",
       "      <td>A</td>\n",
       "      <td>2</td>\n",
       "      <td>24565.0</td>\n",
       "    </tr>\n",
       "  </tbody>\n",
       "</table>\n",
       "</div>"
      ],
      "text/plain": [
       "       Brand              Model  AccelSec  TopSpeed_KmH  Range_Km  \\\n",
       "57  Renault           Twingo ZE      12.6           135       130   \n",
       "68  Renault   Kangoo Maxi ZE 33      22.4           130       160   \n",
       "77    Smart         EQ forfour       12.7           130        95   \n",
       "82    Smart     EQ fortwo coupe      11.6           130       100   \n",
       "91    Smart    EQ fortwo cabrio      11.9           130        95   \n",
       "\n",
       "    Efficiency_WhKm FastCharge_KmH RapidCharge PowerTrain PlugType  BodyStyle  \\\n",
       "57              164              -          No        RWD   Type 2  Hatchback   \n",
       "68              194              -          No        FWD   Type 2        SPV   \n",
       "77              176              -          No        RWD   Type 2  Hatchback   \n",
       "82              167              -          No        RWD   Type 2  Hatchback   \n",
       "91              176              -          No        RWD   Type 2     Cabrio   \n",
       "\n",
       "   Segment  Seats  PriceEuro  \n",
       "57       A      4    24790.0  \n",
       "68       N      5    38000.0  \n",
       "77       A      4    22030.0  \n",
       "82       A      2    21387.0  \n",
       "91       A      2    24565.0  "
      ]
     },
     "execution_count": 25,
     "metadata": {},
     "output_type": "execute_result"
    }
   ],
   "source": [
    "# LINEAR REGRESSION \n",
    "# There are '-' values in FastCharge coloumn \n",
    "df.loc[df['FastCharge_KmH']=='-']"
   ]
  },
  {
   "cell_type": "code",
   "execution_count": 26,
   "id": "c2b1d01e",
   "metadata": {
    "execution": {
     "iopub.execute_input": "2023-10-24T05:58:40.356000Z",
     "iopub.status.busy": "2023-10-24T05:58:40.355348Z",
     "iopub.status.idle": "2023-10-24T05:58:40.360630Z",
     "shell.execute_reply": "2023-10-24T05:58:40.359842Z"
    },
    "papermill": {
     "duration": 0.105615,
     "end_time": "2023-10-24T05:58:40.363211",
     "exception": false,
     "start_time": "2023-10-24T05:58:40.257596",
     "status": "completed"
    },
    "tags": []
   },
   "outputs": [],
   "source": [
    "# We will drop those Values so that we can get the Clear one(Cleaning Them).\n",
    "df2=df.drop(index=[57,68,77,82,91],axis=1)"
   ]
  },
  {
   "cell_type": "code",
   "execution_count": 27,
   "id": "d425936f",
   "metadata": {
    "execution": {
     "iopub.execute_input": "2023-10-24T05:58:40.403095Z",
     "iopub.status.busy": "2023-10-24T05:58:40.402657Z",
     "iopub.status.idle": "2023-10-24T05:58:40.414453Z",
     "shell.execute_reply": "2023-10-24T05:58:40.413634Z"
    },
    "papermill": {
     "duration": 0.034,
     "end_time": "2023-10-24T05:58:40.416667",
     "exception": false,
     "start_time": "2023-10-24T05:58:40.382667",
     "status": "completed"
    },
    "tags": []
   },
   "outputs": [
    {
     "data": {
      "text/html": [
       "<div>\n",
       "<style scoped>\n",
       "    .dataframe tbody tr th:only-of-type {\n",
       "        vertical-align: middle;\n",
       "    }\n",
       "\n",
       "    .dataframe tbody tr th {\n",
       "        vertical-align: top;\n",
       "    }\n",
       "\n",
       "    .dataframe thead th {\n",
       "        text-align: right;\n",
       "    }\n",
       "</style>\n",
       "<table border=\"1\" class=\"dataframe\">\n",
       "  <thead>\n",
       "    <tr style=\"text-align: right;\">\n",
       "      <th></th>\n",
       "      <th>Brand</th>\n",
       "      <th>Model</th>\n",
       "      <th>AccelSec</th>\n",
       "      <th>TopSpeed_KmH</th>\n",
       "      <th>Range_Km</th>\n",
       "      <th>Efficiency_WhKm</th>\n",
       "      <th>FastCharge_KmH</th>\n",
       "      <th>RapidCharge</th>\n",
       "      <th>PowerTrain</th>\n",
       "      <th>PlugType</th>\n",
       "      <th>BodyStyle</th>\n",
       "      <th>Segment</th>\n",
       "      <th>Seats</th>\n",
       "      <th>PriceEuro</th>\n",
       "    </tr>\n",
       "  </thead>\n",
       "  <tbody>\n",
       "  </tbody>\n",
       "</table>\n",
       "</div>"
      ],
      "text/plain": [
       "Empty DataFrame\n",
       "Columns: [Brand, Model, AccelSec, TopSpeed_KmH, Range_Km, Efficiency_WhKm, FastCharge_KmH, RapidCharge, PowerTrain, PlugType, BodyStyle, Segment, Seats, PriceEuro]\n",
       "Index: []"
      ]
     },
     "execution_count": 27,
     "metadata": {},
     "output_type": "execute_result"
    }
   ],
   "source": [
    "# Checking Whether those values are gone or not.\n",
    "df2.loc[df['FastCharge_KmH']=='-']"
   ]
  },
  {
   "cell_type": "code",
   "execution_count": 28,
   "id": "3521b5a2",
   "metadata": {
    "execution": {
     "iopub.execute_input": "2023-10-24T05:58:40.455134Z",
     "iopub.status.busy": "2023-10-24T05:58:40.454351Z",
     "iopub.status.idle": "2023-10-24T05:58:40.462422Z",
     "shell.execute_reply": "2023-10-24T05:58:40.460685Z"
    },
    "papermill": {
     "duration": 0.031332,
     "end_time": "2023-10-24T05:58:40.465625",
     "exception": false,
     "start_time": "2023-10-24T05:58:40.434293",
     "status": "completed"
    },
    "tags": []
   },
   "outputs": [],
   "source": [
    "# we can see in the above output those '-' datas are gone.\n",
    "# Now, Set the 'Features' and 'Target' for our Linear Regression Model.\n",
    "X = df2[['AccelSec', 'TopSpeed_KmH', 'Range_Km', 'Efficiency_WhKm','FastCharge_KmH', 'Seats']]\n",
    "y = df2['PriceEuro']"
   ]
  },
  {
   "cell_type": "code",
   "execution_count": 29,
   "id": "5d612103",
   "metadata": {
    "execution": {
     "iopub.execute_input": "2023-10-24T05:58:40.505732Z",
     "iopub.status.busy": "2023-10-24T05:58:40.504535Z",
     "iopub.status.idle": "2023-10-24T05:58:40.512671Z",
     "shell.execute_reply": "2023-10-24T05:58:40.511697Z"
    },
    "papermill": {
     "duration": 0.031066,
     "end_time": "2023-10-24T05:58:40.515538",
     "exception": false,
     "start_time": "2023-10-24T05:58:40.484472",
     "status": "completed"
    },
    "tags": []
   },
   "outputs": [],
   "source": [
    "# Using train_test_split for splitting our dataset into train and test datasets.\n",
    "X_train,X_test, y_train, y_test = train_test_split(X, y, test_size= 0.2, random_state= 42)  #20 percent of our dataset will be used as Testing Dataset.\n",
    "model= LinearRegression()  # Create our model"
   ]
  },
  {
   "cell_type": "code",
   "execution_count": 30,
   "id": "752df164",
   "metadata": {
    "execution": {
     "iopub.execute_input": "2023-10-24T05:58:40.553753Z",
     "iopub.status.busy": "2023-10-24T05:58:40.552958Z",
     "iopub.status.idle": "2023-10-24T05:58:40.593997Z",
     "shell.execute_reply": "2023-10-24T05:58:40.592885Z"
    },
    "papermill": {
     "duration": 0.06328,
     "end_time": "2023-10-24T05:58:40.596739",
     "exception": false,
     "start_time": "2023-10-24T05:58:40.533459",
     "status": "completed"
    },
    "tags": []
   },
   "outputs": [
    {
     "data": {
      "text/html": [
       "<style>#sk-container-id-1 {color: black;background-color: white;}#sk-container-id-1 pre{padding: 0;}#sk-container-id-1 div.sk-toggleable {background-color: white;}#sk-container-id-1 label.sk-toggleable__label {cursor: pointer;display: block;width: 100%;margin-bottom: 0;padding: 0.3em;box-sizing: border-box;text-align: center;}#sk-container-id-1 label.sk-toggleable__label-arrow:before {content: \"▸\";float: left;margin-right: 0.25em;color: #696969;}#sk-container-id-1 label.sk-toggleable__label-arrow:hover:before {color: black;}#sk-container-id-1 div.sk-estimator:hover label.sk-toggleable__label-arrow:before {color: black;}#sk-container-id-1 div.sk-toggleable__content {max-height: 0;max-width: 0;overflow: hidden;text-align: left;background-color: #f0f8ff;}#sk-container-id-1 div.sk-toggleable__content pre {margin: 0.2em;color: black;border-radius: 0.25em;background-color: #f0f8ff;}#sk-container-id-1 input.sk-toggleable__control:checked~div.sk-toggleable__content {max-height: 200px;max-width: 100%;overflow: auto;}#sk-container-id-1 input.sk-toggleable__control:checked~label.sk-toggleable__label-arrow:before {content: \"▾\";}#sk-container-id-1 div.sk-estimator input.sk-toggleable__control:checked~label.sk-toggleable__label {background-color: #d4ebff;}#sk-container-id-1 div.sk-label input.sk-toggleable__control:checked~label.sk-toggleable__label {background-color: #d4ebff;}#sk-container-id-1 input.sk-hidden--visually {border: 0;clip: rect(1px 1px 1px 1px);clip: rect(1px, 1px, 1px, 1px);height: 1px;margin: -1px;overflow: hidden;padding: 0;position: absolute;width: 1px;}#sk-container-id-1 div.sk-estimator {font-family: monospace;background-color: #f0f8ff;border: 1px dotted black;border-radius: 0.25em;box-sizing: border-box;margin-bottom: 0.5em;}#sk-container-id-1 div.sk-estimator:hover {background-color: #d4ebff;}#sk-container-id-1 div.sk-parallel-item::after {content: \"\";width: 100%;border-bottom: 1px solid gray;flex-grow: 1;}#sk-container-id-1 div.sk-label:hover label.sk-toggleable__label {background-color: #d4ebff;}#sk-container-id-1 div.sk-serial::before {content: \"\";position: absolute;border-left: 1px solid gray;box-sizing: border-box;top: 0;bottom: 0;left: 50%;z-index: 0;}#sk-container-id-1 div.sk-serial {display: flex;flex-direction: column;align-items: center;background-color: white;padding-right: 0.2em;padding-left: 0.2em;position: relative;}#sk-container-id-1 div.sk-item {position: relative;z-index: 1;}#sk-container-id-1 div.sk-parallel {display: flex;align-items: stretch;justify-content: center;background-color: white;position: relative;}#sk-container-id-1 div.sk-item::before, #sk-container-id-1 div.sk-parallel-item::before {content: \"\";position: absolute;border-left: 1px solid gray;box-sizing: border-box;top: 0;bottom: 0;left: 50%;z-index: -1;}#sk-container-id-1 div.sk-parallel-item {display: flex;flex-direction: column;z-index: 1;position: relative;background-color: white;}#sk-container-id-1 div.sk-parallel-item:first-child::after {align-self: flex-end;width: 50%;}#sk-container-id-1 div.sk-parallel-item:last-child::after {align-self: flex-start;width: 50%;}#sk-container-id-1 div.sk-parallel-item:only-child::after {width: 0;}#sk-container-id-1 div.sk-dashed-wrapped {border: 1px dashed gray;margin: 0 0.4em 0.5em 0.4em;box-sizing: border-box;padding-bottom: 0.4em;background-color: white;}#sk-container-id-1 div.sk-label label {font-family: monospace;font-weight: bold;display: inline-block;line-height: 1.2em;}#sk-container-id-1 div.sk-label-container {text-align: center;}#sk-container-id-1 div.sk-container {/* jupyter's `normalize.less` sets `[hidden] { display: none; }` but bootstrap.min.css set `[hidden] { display: none !important; }` so we also need the `!important` here to be able to override the default hidden behavior on the sphinx rendered scikit-learn.org. See: https://github.com/scikit-learn/scikit-learn/issues/21755 */display: inline-block !important;position: relative;}#sk-container-id-1 div.sk-text-repr-fallback {display: none;}</style><div id=\"sk-container-id-1\" class=\"sk-top-container\"><div class=\"sk-text-repr-fallback\"><pre>LinearRegression()</pre><b>In a Jupyter environment, please rerun this cell to show the HTML representation or trust the notebook. <br />On GitHub, the HTML representation is unable to render, please try loading this page with nbviewer.org.</b></div><div class=\"sk-container\" hidden><div class=\"sk-item\"><div class=\"sk-estimator sk-toggleable\"><input class=\"sk-toggleable__control sk-hidden--visually\" id=\"sk-estimator-id-1\" type=\"checkbox\" checked><label for=\"sk-estimator-id-1\" class=\"sk-toggleable__label sk-toggleable__label-arrow\">LinearRegression</label><div class=\"sk-toggleable__content\"><pre>LinearRegression()</pre></div></div></div></div></div>"
      ],
      "text/plain": [
       "LinearRegression()"
      ]
     },
     "execution_count": 30,
     "metadata": {},
     "output_type": "execute_result"
    }
   ],
   "source": [
    "# Training our model using Training Dataset\n",
    "model.fit(X_train, y_train)"
   ]
  },
  {
   "cell_type": "code",
   "execution_count": 31,
   "id": "d00efbbc",
   "metadata": {
    "execution": {
     "iopub.execute_input": "2023-10-24T05:58:40.636673Z",
     "iopub.status.busy": "2023-10-24T05:58:40.636214Z",
     "iopub.status.idle": "2023-10-24T05:58:40.644738Z",
     "shell.execute_reply": "2023-10-24T05:58:40.643520Z"
    },
    "papermill": {
     "duration": 0.031922,
     "end_time": "2023-10-24T05:58:40.647348",
     "exception": false,
     "start_time": "2023-10-24T05:58:40.615426",
     "status": "completed"
    },
    "tags": []
   },
   "outputs": [],
   "source": [
    "# Making predictions using Testing set\n",
    "predictions = model.predict(X_test)"
   ]
  },
  {
   "cell_type": "code",
   "execution_count": 32,
   "id": "8c1f1841",
   "metadata": {
    "execution": {
     "iopub.execute_input": "2023-10-24T05:58:40.686909Z",
     "iopub.status.busy": "2023-10-24T05:58:40.685382Z",
     "iopub.status.idle": "2023-10-24T05:58:40.694536Z",
     "shell.execute_reply": "2023-10-24T05:58:40.693022Z"
    },
    "papermill": {
     "duration": 0.03159,
     "end_time": "2023-10-24T05:58:40.697153",
     "exception": false,
     "start_time": "2023-10-24T05:58:40.665563",
     "status": "completed"
    },
    "tags": []
   },
   "outputs": [
    {
     "name": "stdout",
     "output_type": "stream",
     "text": [
      "Mean Squared Error: 143254316.91752142\n",
      "R-squared: 0.7948301157446107\n"
     ]
    }
   ],
   "source": [
    "# Calculate and print the model performance metrics (Finding 'Mean Squared Error' and 'R-Squared' values)\n",
    "print('Mean Squared Error:', mean_squared_error(y_test, predictions))\n",
    "print('R-squared:', r2_score(y_test, predictions))"
   ]
  },
  {
   "cell_type": "code",
   "execution_count": 33,
   "id": "2687f1eb",
   "metadata": {
    "execution": {
     "iopub.execute_input": "2023-10-24T05:58:40.736221Z",
     "iopub.status.busy": "2023-10-24T05:58:40.735516Z",
     "iopub.status.idle": "2023-10-24T05:58:40.743211Z",
     "shell.execute_reply": "2023-10-24T05:58:40.742040Z"
    },
    "papermill": {
     "duration": 0.030435,
     "end_time": "2023-10-24T05:58:40.745799",
     "exception": false,
     "start_time": "2023-10-24T05:58:40.715364",
     "status": "completed"
    },
    "tags": []
   },
   "outputs": [
    {
     "name": "stdout",
     "output_type": "stream",
     "text": [
      "Coefficients: [-1589.34407793   245.42547407    27.85405345   136.73797477\n",
      "     6.80130803 -1181.69172939]\n",
      "Intercept: -12575.097646297945\n"
     ]
    }
   ],
   "source": [
    "# Coefficients and intercept of the model\n",
    "print('Coefficients:', model.coef_)\n",
    "print('Intercept:', model.intercept_)"
   ]
  },
  {
   "cell_type": "code",
   "execution_count": 34,
   "id": "42deb09e",
   "metadata": {
    "execution": {
     "iopub.execute_input": "2023-10-24T05:58:40.784529Z",
     "iopub.status.busy": "2023-10-24T05:58:40.784066Z",
     "iopub.status.idle": "2023-10-24T05:58:41.176450Z",
     "shell.execute_reply": "2023-10-24T05:58:41.175104Z"
    },
    "papermill": {
     "duration": 0.415669,
     "end_time": "2023-10-24T05:58:41.179682",
     "exception": false,
     "start_time": "2023-10-24T05:58:40.764013",
     "status": "completed"
    },
    "tags": []
   },
   "outputs": [
    {
     "data": {
      "image/png": "[encoded data removed]",
      "text/plain": [
       "<Figure size 800x600 with 1 Axes>"
      ]
     },
     "metadata": {},
     "output_type": "display_data"
    }
   ],
   "source": [
    "# Create a scatter plot of actual vs predicted values\n",
    "plt.figure(figsize=(8, 6))\n",
    "plt.scatter(y_test, predictions, color='blue', label='Actual vs Predicted')\n",
    "plt.plot([min(y_test), max(y_test)], [min(y_test), max(y_test)], linestyle='--', color='red', linewidth=2, label='Perfect Prediction')\n",
    "plt.xlabel('Actual Price (Euro)')\n",
    "plt.ylabel('Predicted Price (Euro)')\n",
    "plt.title('Actual vs Predicted Prices (Linear Regression)')\n",
    "plt.legend()\n",
    "plt.show()"
   ]
  }
 ],
 "metadata": {
  "kernelspec": {
   "display_name": "Python 3",
   "language": "python",
   "name": "python3"
  },
  "language_info": {
   "codemirror_mode": {
    "name": "ipython",
    "version": 3
   },
   "file_extension": ".py",
   "mimetype": "text/x-python",
   "name": "python",
   "nbconvert_exporter": "python",
   "pygments_lexer": "ipython3",
   "version": "3.10.12"
  },
  "papermill": {
   "default_parameters": {},
   "duration": 12.230031,
   "end_time": "2023-10-24T05:58:42.229250",
   "environment_variables": {},
   "exception": null,
   "input_path": "__notebook__.ipynb",
   "output_path": "__notebook__.ipynb",
   "parameters": {},
   "start_time": "2023-10-24T05:58:29.999219",
   "version": "2.4.0"
  }
 },
 "nbformat": 4,
 "nbformat_minor": 5
}
